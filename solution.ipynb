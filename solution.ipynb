{
 "cells": [
  {
   "cell_type": "code",
   "execution_count": 11,
   "id": "4c20601e-709d-49d1-88e9-6e138c5a27c0",
   "metadata": {},
   "outputs": [],
   "source": [
    "import numpy as np\n",
    "import pandas as pd\n",
    "\n",
    "from tqdm import trange\n",
    "import re\n",
    "import joblib"
   ]
  },
  {
   "cell_type": "code",
   "execution_count": 3,
   "id": "93a44cef-8fb9-445d-8785-939a6c97cfb1",
   "metadata": {},
   "outputs": [],
   "source": [
    "test = pd.read_csv(\"test.csv\")\n",
    "val = pd.read_csv(\"val.csv\")\n",
    "train = pd.read_csv(\"Top1Million_and_generate.csv\")"
   ]
  },
  {
   "cell_type": "code",
   "execution_count": 4,
   "id": "dac56e7c-7e1f-43fc-a338-8aa164797f94",
   "metadata": {},
   "outputs": [
    {
     "data": {
      "text/html": [
       "<div>\n",
       "<style scoped>\n",
       "    .dataframe tbody tr th:only-of-type {\n",
       "        vertical-align: middle;\n",
       "    }\n",
       "\n",
       "    .dataframe tbody tr th {\n",
       "        vertical-align: top;\n",
       "    }\n",
       "\n",
       "    .dataframe thead th {\n",
       "        text-align: right;\n",
       "    }\n",
       "</style>\n",
       "<table border=\"1\" class=\"dataframe\">\n",
       "  <thead>\n",
       "    <tr style=\"text-align: right;\">\n",
       "      <th></th>\n",
       "      <th>domain</th>\n",
       "    </tr>\n",
       "  </thead>\n",
       "  <tbody>\n",
       "    <tr>\n",
       "      <th>0</th>\n",
       "      <td>dxveuu-km.ru</td>\n",
       "    </tr>\n",
       "    <tr>\n",
       "      <th>1</th>\n",
       "      <td>bellkrolik.ru</td>\n",
       "    </tr>\n",
       "    <tr>\n",
       "      <th>2</th>\n",
       "      <td>livetvstatic.ru</td>\n",
       "    </tr>\n",
       "    <tr>\n",
       "      <th>3</th>\n",
       "      <td>qyn73rku0zr.ru</td>\n",
       "    </tr>\n",
       "    <tr>\n",
       "      <th>4</th>\n",
       "      <td>ipvanish.com</td>\n",
       "    </tr>\n",
       "  </tbody>\n",
       "</table>\n",
       "</div>"
      ],
      "text/plain": [
       "            domain\n",
       "0     dxveuu-km.ru\n",
       "1    bellkrolik.ru\n",
       "2  livetvstatic.ru\n",
       "3   qyn73rku0zr.ru\n",
       "4     ipvanish.com"
      ]
     },
     "execution_count": 4,
     "metadata": {},
     "output_type": "execute_result"
    }
   ],
   "source": [
    "test.head()"
   ]
  },
  {
   "cell_type": "code",
   "execution_count": 6,
   "id": "03efe4d5-a95f-4175-bed0-3db4196cf4cc",
   "metadata": {},
   "outputs": [
    {
     "data": {
      "text/html": [
       "<div>\n",
       "<style scoped>\n",
       "    .dataframe tbody tr th:only-of-type {\n",
       "        vertical-align: middle;\n",
       "    }\n",
       "\n",
       "    .dataframe tbody tr th {\n",
       "        vertical-align: top;\n",
       "    }\n",
       "\n",
       "    .dataframe thead th {\n",
       "        text-align: right;\n",
       "    }\n",
       "</style>\n",
       "<table border=\"1\" class=\"dataframe\">\n",
       "  <thead>\n",
       "    <tr style=\"text-align: right;\">\n",
       "      <th></th>\n",
       "      <th>domain</th>\n",
       "      <th>is_dga</th>\n",
       "    </tr>\n",
       "  </thead>\n",
       "  <tbody>\n",
       "    <tr>\n",
       "      <th>0</th>\n",
       "      <td>r8s3-zzdxp.ru</td>\n",
       "      <td>1</td>\n",
       "    </tr>\n",
       "    <tr>\n",
       "      <th>1</th>\n",
       "      <td>mysolarfocus.com</td>\n",
       "      <td>0</td>\n",
       "    </tr>\n",
       "    <tr>\n",
       "      <th>2</th>\n",
       "      <td>m60oax.ru</td>\n",
       "      <td>1</td>\n",
       "    </tr>\n",
       "    <tr>\n",
       "      <th>3</th>\n",
       "      <td>kbgckwrax.nl</td>\n",
       "      <td>1</td>\n",
       "    </tr>\n",
       "    <tr>\n",
       "      <th>4</th>\n",
       "      <td>mostbetru32new.ru</td>\n",
       "      <td>0</td>\n",
       "    </tr>\n",
       "  </tbody>\n",
       "</table>\n",
       "</div>"
      ],
      "text/plain": [
       "              domain  is_dga\n",
       "0      r8s3-zzdxp.ru       1\n",
       "1   mysolarfocus.com       0\n",
       "2          m60oax.ru       1\n",
       "3       kbgckwrax.nl       1\n",
       "4  mostbetru32new.ru       0"
      ]
     },
     "execution_count": 6,
     "metadata": {},
     "output_type": "execute_result"
    }
   ],
   "source": [
    "val.head()"
   ]
  },
  {
   "cell_type": "code",
   "execution_count": 7,
   "id": "388bfbc5-191c-4362-84da-b65ce73fa34a",
   "metadata": {},
   "outputs": [
    {
     "data": {
      "text/html": [
       "<div>\n",
       "<style scoped>\n",
       "    .dataframe tbody tr th:only-of-type {\n",
       "        vertical-align: middle;\n",
       "    }\n",
       "\n",
       "    .dataframe tbody tr th {\n",
       "        vertical-align: top;\n",
       "    }\n",
       "\n",
       "    .dataframe thead th {\n",
       "        text-align: right;\n",
       "    }\n",
       "</style>\n",
       "<table border=\"1\" class=\"dataframe\">\n",
       "  <thead>\n",
       "    <tr style=\"text-align: right;\">\n",
       "      <th></th>\n",
       "      <th>domain</th>\n",
       "      <th>is_dga</th>\n",
       "    </tr>\n",
       "  </thead>\n",
       "  <tbody>\n",
       "    <tr>\n",
       "      <th>0</th>\n",
       "      <td>freeslotsland.eu</td>\n",
       "      <td>0</td>\n",
       "    </tr>\n",
       "    <tr>\n",
       "      <th>1</th>\n",
       "      <td>digianime.co.jp</td>\n",
       "      <td>0</td>\n",
       "    </tr>\n",
       "    <tr>\n",
       "      <th>2</th>\n",
       "      <td>ionicacademy.com</td>\n",
       "      <td>0</td>\n",
       "    </tr>\n",
       "    <tr>\n",
       "      <th>3</th>\n",
       "      <td>bgnul1</td>\n",
       "      <td>1</td>\n",
       "    </tr>\n",
       "    <tr>\n",
       "      <th>4</th>\n",
       "      <td>fmoviesub.com</td>\n",
       "      <td>0</td>\n",
       "    </tr>\n",
       "  </tbody>\n",
       "</table>\n",
       "</div>"
      ],
      "text/plain": [
       "             domain  is_dga\n",
       "0  freeslotsland.eu       0\n",
       "1   digianime.co.jp       0\n",
       "2  ionicacademy.com       0\n",
       "3            bgnul1       1\n",
       "4     fmoviesub.com       0"
      ]
     },
     "execution_count": 7,
     "metadata": {},
     "output_type": "execute_result"
    }
   ],
   "source": [
    "train.head()"
   ]
  },
  {
   "cell_type": "code",
   "execution_count": 8,
   "id": "d31fd02e-ed3e-45ac-a742-20c8df7353d4",
   "metadata": {},
   "outputs": [
    {
     "data": {
      "text/plain": [
       "(10000, 10000, 2000000)"
      ]
     },
     "execution_count": 8,
     "metadata": {},
     "output_type": "execute_result"
    }
   ],
   "source": [
    "len(test), len(val), len(train)"
   ]
  },
  {
   "cell_type": "code",
   "execution_count": 9,
   "id": "04d77fed-2614-4d8b-8e49-4dbfb985cdcc",
   "metadata": {},
   "outputs": [],
   "source": [
    "def clean_domain_df(df):\n",
    "    #function clears the domain name from the name of the domain zone\n",
    "    for i in trange(len(df)):\n",
    "        while df.loc[i, 'domain']!=re.sub(r'\\.[^./]+?$', '', df.loc[i, 'domain']):\n",
    "            df.loc[i, 'domain']=re.sub(r'\\.[^./]+?$', '', df.loc[i, 'domain'])"
   ]
  },
  {
   "cell_type": "code",
   "execution_count": 10,
   "id": "753ce317-96d0-4785-9e35-4fcd00ef6e32",
   "metadata": {},
   "outputs": [
    {
     "name": "stderr",
     "output_type": "stream",
     "text": [
      "100%|██████████| 10000/10000 [00:01<00:00, 6898.71it/s]\n",
      "100%|██████████| 10000/10000 [00:02<00:00, 4884.28it/s]\n",
      "100%|██████████| 2000000/2000000 [04:06<00:00, 8124.85it/s]\n"
     ]
    }
   ],
   "source": [
    "clean_domain_df(test)\n",
    "clean_domain_df(val)\n",
    "clean_domain_df(train)"
   ]
  },
  {
   "cell_type": "markdown",
   "id": "99147b6c-bed2-4e88-9c03-7b5de2e2af27",
   "metadata": {},
   "source": [
    "training a model with parameters selected via GridSearchCV"
   ]
  },
  {
   "cell_type": "code",
   "execution_count": null,
   "id": "6abd7632-c6d5-4124-8250-e4d57c478ce2",
   "metadata": {},
   "outputs": [],
   "source": [
    "from sklearn.feature_extraction.text import TfidfVectorizer\n",
    "from sklearn.naive_bayes import MultinomialNB\n",
    "from sklearn.pipeline import Pipeline\n",
    "\n",
    "model = Pipeline([('tfidf', TfidfVectorizer(analyzer='char_wb', ngram_range=(3,6), use_idf=True)),\n",
    "                              ('nb', MultinomialNB(alpha=0))])\n",
    "\n",
    "model.fit(train[\"domain\"], train[\"is_dga\"])\n",
    "\n",
    "pred = model.predict(val[\"domain\"])"
   ]
  },
  {
   "cell_type": "markdown",
   "id": "21847b44-8c3d-4857-ba64-45a3c40d3a40",
   "metadata": {},
   "source": [
    "writing metrics to a validation.txt"
   ]
  },
  {
   "cell_type": "code",
   "execution_count": null,
   "id": "603369f8-4b1f-476c-a3a0-70b0e9bf3570",
   "metadata": {},
   "outputs": [],
   "source": [
    "file = open(path+\"validation.txt\", \"w+\")\n",
    "t_pos=0\n",
    "f_pos=0\n",
    "f_neg=0\n",
    "t_neg=0\n",
    "#counting the True positive, False positive, False negative, True negative\n",
    "for i in range(len(val)):\n",
    "    if val['is_dga'][i]==1:\n",
    "        if val['is_dga'][i]==pred[i]:t_pos+=1\n",
    "        else: f_pos+=1\n",
    "    else:\n",
    "        if val['is_dga'][i]==pred[i]:t_neg+=1\n",
    "        else: f_neg+=1\n",
    "            \n",
    "file.write('True positive: ' + str(t_pos)+'\\n')\n",
    "file.write ('False positive: ' + str(f_pos)+'\\n')\n",
    "file.write ('False negative: ' + str(f_neg)+'\\n')\n",
    "file.write ('True negative: ' + str(t_neg)+'\\n')\n",
    "file.write ('Accuracy: ' + str(np.mean(pred == val['is_dga']))+'\\n')\n",
    "file.write ('Precision: ' + str(precision_score(val['is_dga'], pred))+'\\n')\n",
    "file.write ('Recall: ' + str(recall_score(val['is_dga'], pred))+'\\n')\n",
    "file.write ('F1: ' + str(f1_score(val['is_dga'], pred))+'\\n')\n",
    "file.close()"
   ]
  },
  {
   "cell_type": "code",
   "execution_count": null,
   "id": "677d8806-fad2-4717-806e-e813b8571784",
   "metadata": {},
   "outputs": [],
   "source": [
    "#making a prediction for a test sample\n",
    "pred=model.predict(test[\"domain\"])\n",
    "\n",
    "#create a csv file and save it\n",
    "test.insert (loc= 1 , column='is_dga', value=pred)\n",
    "test.to_csv('predictions.csv', index=False)"
   ]
  },
  {
   "cell_type": "code",
   "execution_count": null,
   "id": "cecbfe3a-e300-41d2-b832-78f2fdfb8f73",
   "metadata": {},
   "outputs": [],
   "source": [
    "#save model\n",
    "joblib.dump(model, 'model.pkl')"
   ]
  }
 ],
 "metadata": {
  "kernelspec": {
   "display_name": "Python 3 (ipykernel)",
   "language": "python",
   "name": "python3"
  },
  "language_info": {
   "codemirror_mode": {
    "name": "ipython",
    "version": 3
   },
   "file_extension": ".py",
   "mimetype": "text/x-python",
   "name": "python",
   "nbconvert_exporter": "python",
   "pygments_lexer": "ipython3",
   "version": "3.12.4"
  }
 },
 "nbformat": 4,
 "nbformat_minor": 5
}
