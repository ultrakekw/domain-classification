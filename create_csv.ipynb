{
 "cells": [
  {
   "cell_type": "code",
   "execution_count": 24,
   "id": "50703b7c-8b9d-4db8-a216-26423e09178d",
   "metadata": {},
   "outputs": [],
   "source": [
    "import numpy as np\n",
    "import pandas as pd\n",
    "import matplotlib.pyplot as plt\n",
    "\n",
    "import re\n",
    "import random\n",
    "import string\n",
    "\n",
    "import warnings\n",
    "from pandas.errors import SettingWithCopyWarning\n",
    "\n",
    "warnings.simplefilter(action=\"ignore\", category=SettingWithCopyWarning)"
   ]
  },
  {
   "cell_type": "code",
   "execution_count": 25,
   "id": "5c3423d0-e9ea-40df-991f-73749fe158ab",
   "metadata": {},
   "outputs": [],
   "source": [
    "val_df = pd.read_csv(r\"C:\\Users\\vesel\\ML and DS\\projects\\infotecs тестовое\\Разработчик Machine Learning\\infotecs\\val.csv\")"
   ]
  },
  {
   "cell_type": "code",
   "execution_count": 26,
   "id": "8a49773e-d69d-4d12-a53b-6cf5a7257137",
   "metadata": {},
   "outputs": [
    {
     "data": {
      "text/html": [
       "<div>\n",
       "<style scoped>\n",
       "    .dataframe tbody tr th:only-of-type {\n",
       "        vertical-align: middle;\n",
       "    }\n",
       "\n",
       "    .dataframe tbody tr th {\n",
       "        vertical-align: top;\n",
       "    }\n",
       "\n",
       "    .dataframe thead th {\n",
       "        text-align: right;\n",
       "    }\n",
       "</style>\n",
       "<table border=\"1\" class=\"dataframe\">\n",
       "  <thead>\n",
       "    <tr style=\"text-align: right;\">\n",
       "      <th></th>\n",
       "      <th>domain</th>\n",
       "      <th>is_dga</th>\n",
       "    </tr>\n",
       "  </thead>\n",
       "  <tbody>\n",
       "    <tr>\n",
       "      <th>0</th>\n",
       "      <td>r8s3-zzdxp.ru</td>\n",
       "      <td>1</td>\n",
       "    </tr>\n",
       "    <tr>\n",
       "      <th>1</th>\n",
       "      <td>mysolarfocus.com</td>\n",
       "      <td>0</td>\n",
       "    </tr>\n",
       "    <tr>\n",
       "      <th>2</th>\n",
       "      <td>m60oax.ru</td>\n",
       "      <td>1</td>\n",
       "    </tr>\n",
       "    <tr>\n",
       "      <th>3</th>\n",
       "      <td>kbgckwrax.nl</td>\n",
       "      <td>1</td>\n",
       "    </tr>\n",
       "    <tr>\n",
       "      <th>4</th>\n",
       "      <td>mostbetru32new.ru</td>\n",
       "      <td>0</td>\n",
       "    </tr>\n",
       "  </tbody>\n",
       "</table>\n",
       "</div>"
      ],
      "text/plain": [
       "              domain  is_dga\n",
       "0      r8s3-zzdxp.ru       1\n",
       "1   mysolarfocus.com       0\n",
       "2          m60oax.ru       1\n",
       "3       kbgckwrax.nl       1\n",
       "4  mostbetru32new.ru       0"
      ]
     },
     "execution_count": 26,
     "metadata": {},
     "output_type": "execute_result"
    }
   ],
   "source": [
    "val_df.head()"
   ]
  },
  {
   "cell_type": "markdown",
   "id": "24b99371-3382-4e08-8577-13d5189a2562",
   "metadata": {},
   "source": [
    "delete domain zone(.com, .ru, .nl etc.)"
   ]
  },
  {
   "cell_type": "code",
   "execution_count": 27,
   "id": "d34ebecf-fbce-4b33-b572-b9336f27d753",
   "metadata": {},
   "outputs": [],
   "source": [
    "for i in range(len(val_df)):\n",
    "    val_df.loc[i, 'domain']=re.sub(r'\\.[^./]+?$', '', val_df['domain'][i])"
   ]
  },
  {
   "cell_type": "code",
   "execution_count": 28,
   "id": "7ae29557-cfc2-4d57-bbd3-8e5595ae5b9e",
   "metadata": {},
   "outputs": [
    {
     "data": {
      "text/html": [
       "<div>\n",
       "<style scoped>\n",
       "    .dataframe tbody tr th:only-of-type {\n",
       "        vertical-align: middle;\n",
       "    }\n",
       "\n",
       "    .dataframe tbody tr th {\n",
       "        vertical-align: top;\n",
       "    }\n",
       "\n",
       "    .dataframe thead th {\n",
       "        text-align: right;\n",
       "    }\n",
       "</style>\n",
       "<table border=\"1\" class=\"dataframe\">\n",
       "  <thead>\n",
       "    <tr style=\"text-align: right;\">\n",
       "      <th></th>\n",
       "      <th>domain</th>\n",
       "      <th>is_dga</th>\n",
       "    </tr>\n",
       "  </thead>\n",
       "  <tbody>\n",
       "    <tr>\n",
       "      <th>0</th>\n",
       "      <td>r8s3-zzdxp</td>\n",
       "      <td>1</td>\n",
       "    </tr>\n",
       "    <tr>\n",
       "      <th>1</th>\n",
       "      <td>mysolarfocus</td>\n",
       "      <td>0</td>\n",
       "    </tr>\n",
       "    <tr>\n",
       "      <th>2</th>\n",
       "      <td>m60oax</td>\n",
       "      <td>1</td>\n",
       "    </tr>\n",
       "    <tr>\n",
       "      <th>3</th>\n",
       "      <td>kbgckwrax</td>\n",
       "      <td>1</td>\n",
       "    </tr>\n",
       "    <tr>\n",
       "      <th>4</th>\n",
       "      <td>mostbetru32new</td>\n",
       "      <td>0</td>\n",
       "    </tr>\n",
       "  </tbody>\n",
       "</table>\n",
       "</div>"
      ],
      "text/plain": [
       "           domain  is_dga\n",
       "0      r8s3-zzdxp       1\n",
       "1    mysolarfocus       0\n",
       "2          m60oax       1\n",
       "3       kbgckwrax       1\n",
       "4  mostbetru32new       0"
      ]
     },
     "execution_count": 28,
     "metadata": {},
     "output_type": "execute_result"
    }
   ],
   "source": [
    "val_df.head()"
   ]
  },
  {
   "cell_type": "markdown",
   "id": "e50ceff8-3a0e-47e4-8df9-78c8f91101fd",
   "metadata": {},
   "source": [
    "download dataset with top 1 million most popular domain 2014"
   ]
  },
  {
   "cell_type": "code",
   "execution_count": 29,
   "id": "c3853fcf-2fc6-40fb-ad09-3fbb62254573",
   "metadata": {},
   "outputs": [],
   "source": [
    "top1m = pd.read_csv('https://raw.githubusercontent.com/mozilla/cipherscan/master/top1m/top-1m.csv')"
   ]
  },
  {
   "cell_type": "code",
   "execution_count": 30,
   "id": "b42e15f1-f64d-4b55-9e93-f34f7c9c5581",
   "metadata": {},
   "outputs": [
    {
     "data": {
      "text/html": [
       "<div>\n",
       "<style scoped>\n",
       "    .dataframe tbody tr th:only-of-type {\n",
       "        vertical-align: middle;\n",
       "    }\n",
       "\n",
       "    .dataframe tbody tr th {\n",
       "        vertical-align: top;\n",
       "    }\n",
       "\n",
       "    .dataframe thead th {\n",
       "        text-align: right;\n",
       "    }\n",
       "</style>\n",
       "<table border=\"1\" class=\"dataframe\">\n",
       "  <thead>\n",
       "    <tr style=\"text-align: right;\">\n",
       "      <th></th>\n",
       "      <th>1</th>\n",
       "      <th>google.com</th>\n",
       "    </tr>\n",
       "  </thead>\n",
       "  <tbody>\n",
       "    <tr>\n",
       "      <th>0</th>\n",
       "      <td>2</td>\n",
       "      <td>facebook.com</td>\n",
       "    </tr>\n",
       "    <tr>\n",
       "      <th>1</th>\n",
       "      <td>3</td>\n",
       "      <td>youtube.com</td>\n",
       "    </tr>\n",
       "    <tr>\n",
       "      <th>2</th>\n",
       "      <td>4</td>\n",
       "      <td>yahoo.com</td>\n",
       "    </tr>\n",
       "    <tr>\n",
       "      <th>3</th>\n",
       "      <td>5</td>\n",
       "      <td>baidu.com</td>\n",
       "    </tr>\n",
       "    <tr>\n",
       "      <th>4</th>\n",
       "      <td>6</td>\n",
       "      <td>wikipedia.org</td>\n",
       "    </tr>\n",
       "  </tbody>\n",
       "</table>\n",
       "</div>"
      ],
      "text/plain": [
       "   1     google.com\n",
       "0  2   facebook.com\n",
       "1  3    youtube.com\n",
       "2  4      yahoo.com\n",
       "3  5      baidu.com\n",
       "4  6  wikipedia.org"
      ]
     },
     "execution_count": 30,
     "metadata": {},
     "output_type": "execute_result"
    }
   ],
   "source": [
    "top1m.head()"
   ]
  },
  {
   "cell_type": "code",
   "execution_count": 31,
   "id": "64abb371-12f9-45d7-9d73-e02a5939ef31",
   "metadata": {},
   "outputs": [],
   "source": [
    "top1m = pd.DataFrame(np.insert(top1m.values , 0, values=[1, 'google.com'], axis= 0 ))\n",
    "top1m=top1m.drop(0, axis=1)\n",
    "top1m=top1m.rename(columns={1:'domain'})\n",
    "top1m.insert (loc= len(top1m.columns) , column='is_dga', value=[0 for i in range(len(top1m))])"
   ]
  },
  {
   "cell_type": "code",
   "execution_count": 32,
   "id": "d899b76e-c633-4cad-8d3d-927f2ce01606",
   "metadata": {},
   "outputs": [
    {
     "data": {
      "text/html": [
       "<div>\n",
       "<style scoped>\n",
       "    .dataframe tbody tr th:only-of-type {\n",
       "        vertical-align: middle;\n",
       "    }\n",
       "\n",
       "    .dataframe tbody tr th {\n",
       "        vertical-align: top;\n",
       "    }\n",
       "\n",
       "    .dataframe thead th {\n",
       "        text-align: right;\n",
       "    }\n",
       "</style>\n",
       "<table border=\"1\" class=\"dataframe\">\n",
       "  <thead>\n",
       "    <tr style=\"text-align: right;\">\n",
       "      <th></th>\n",
       "      <th>domain</th>\n",
       "      <th>is_dga</th>\n",
       "    </tr>\n",
       "  </thead>\n",
       "  <tbody>\n",
       "    <tr>\n",
       "      <th>0</th>\n",
       "      <td>google.com</td>\n",
       "      <td>0</td>\n",
       "    </tr>\n",
       "    <tr>\n",
       "      <th>1</th>\n",
       "      <td>facebook.com</td>\n",
       "      <td>0</td>\n",
       "    </tr>\n",
       "    <tr>\n",
       "      <th>2</th>\n",
       "      <td>youtube.com</td>\n",
       "      <td>0</td>\n",
       "    </tr>\n",
       "    <tr>\n",
       "      <th>3</th>\n",
       "      <td>yahoo.com</td>\n",
       "      <td>0</td>\n",
       "    </tr>\n",
       "    <tr>\n",
       "      <th>4</th>\n",
       "      <td>baidu.com</td>\n",
       "      <td>0</td>\n",
       "    </tr>\n",
       "  </tbody>\n",
       "</table>\n",
       "</div>"
      ],
      "text/plain": [
       "         domain  is_dga\n",
       "0    google.com       0\n",
       "1  facebook.com       0\n",
       "2   youtube.com       0\n",
       "3     yahoo.com       0\n",
       "4     baidu.com       0"
      ]
     },
     "execution_count": 32,
     "metadata": {},
     "output_type": "execute_result"
    }
   ],
   "source": [
    "top1m.head()"
   ]
  },
  {
   "cell_type": "code",
   "execution_count": 33,
   "id": "8554eee9-dcdd-4d21-881c-720b86db2311",
   "metadata": {},
   "outputs": [
    {
     "name": "stdout",
     "output_type": "stream",
     "text": [
      "True:  5018 False:  4982\n"
     ]
    }
   ],
   "source": [
    "print ('True: ',len(val_df[val_df['is_dga']==1]), 'False: ',len(val_df[val_df['is_dga']==0]))"
   ]
  },
  {
   "cell_type": "markdown",
   "id": "d9fd1afd-63c1-469b-99a6-34e67a93532c",
   "metadata": {},
   "source": [
    "The ratio of true to false is about 50-50  \n",
    "After that, we analyze the lengths of the domains:"
   ]
  },
  {
   "cell_type": "code",
   "execution_count": 34,
   "id": "be2f3752-9f88-4fe9-8402-f149aff56b67",
   "metadata": {},
   "outputs": [],
   "source": [
    "lenghts=[]\n",
    "for i in val_df[val_df['is_dga']==1]['domain']:\n",
    "    lenghts.append(len(i))"
   ]
  },
  {
   "cell_type": "code",
   "execution_count": 35,
   "id": "8d407848-9ca1-4712-9047-d341dafa3c19",
   "metadata": {},
   "outputs": [
    {
     "data": {
      "image/png": "[encoded data removed]",
      "text/plain": [
       "<Figure size 640x480 with 1 Axes>"
      ]
     },
     "metadata": {},
     "output_type": "display_data"
    }
   ],
   "source": [
    "plt.hist(lenghts)\n",
    "plt.show()"
   ]
  },
  {
   "cell_type": "code",
   "execution_count": 36,
   "id": "7a8ca723-c5e8-477d-8aa5-d8b33eb8c2ce",
   "metadata": {},
   "outputs": [],
   "source": [
    "short = []\n",
    "standart = []\n",
    "long = []\n",
    "for i in lenghts:\n",
    "    if i <=5: short.append(i)\n",
    "    elif i <=15: standart.append(i)\n",
    "    else: long.append(i)"
   ]
  },
  {
   "cell_type": "code",
   "execution_count": 37,
   "id": "f996893c-cd6f-4460-b6dc-64cbf04eaa4a",
   "metadata": {},
   "outputs": [
    {
     "name": "stdout",
     "output_type": "stream",
     "text": [
      "0.10721402949382224\n",
      "0.7596652052610602\n",
      "0.13312076524511757\n"
     ]
    }
   ],
   "source": [
    "print (len(short)/len(lenghts))\n",
    "print (len(standart)/len(lenghts))\n",
    "print (len(long)/len(lenghts))"
   ]
  },
  {
   "cell_type": "code",
   "execution_count": 38,
   "id": "eb73edc4-d4d8-45c6-9e0e-12f926f79ce0",
   "metadata": {},
   "outputs": [
    {
     "name": "stdout",
     "output_type": "stream",
     "text": [
      "gsrwh\n"
     ]
    }
   ],
   "source": [
    "import random\n",
    "import string\n",
    "\n",
    "def generate_random_word(length):\n",
    "    letters = string.ascii_lowercase\n",
    "    word = ''.join(random.choice(letters) for i in range(length))\n",
    "    if word=='nan': word = 'ooop'\n",
    "    return word\n",
    "\n",
    "word = generate_random_word(5)\n",
    "print(word)"
   ]
  },
  {
   "cell_type": "markdown",
   "id": "3bc27f8e-b2c1-479b-8b64-3bcafc58b532",
   "metadata": {},
   "source": [
    "creating a data frame of length 1000000 with generated domains"
   ]
  },
  {
   "cell_type": "code",
   "execution_count": 39,
   "id": "daf0533a-4dac-4c27-9119-37ab2f4ab477",
   "metadata": {},
   "outputs": [],
   "source": [
    "gen_domains = []\n",
    "letters = string.ascii_lowercase*3+string.digits\n",
    "for i in range(1000000):\n",
    "    r = random.random()\n",
    "    if r < 0.11: length = random.randint(2, 6)\n",
    "    elif r < 0.76: length = random.randint (6, 16)\n",
    "    else: length = random.randint (16, 36)\n",
    "    word=(''.join(random.choice(letters) for i in range(length)))\n",
    "    while word=='nan': word=(''.join(random.choice(letters) for i in range(length)))\n",
    "    gen_domains.append(word)"
   ]
  },
  {
   "cell_type": "code",
   "execution_count": 40,
   "id": "69fc4655-5560-48f5-8b09-0ec99559ca9e",
   "metadata": {},
   "outputs": [],
   "source": [
    "gen_df=pd.DataFrame(gen_domains)\n",
    "gen_df.insert (loc= len(gen_df.columns) , column='is_dga', value=[1 for i in range(len(gen_df))])\n",
    "gen_df=gen_df.rename(columns={0:'domain'})"
   ]
  },
  {
   "cell_type": "code",
   "execution_count": 41,
   "id": "31dfe913-4c8b-42d2-951c-9a76f9f2364b",
   "metadata": {},
   "outputs": [
    {
     "data": {
      "text/html": [
       "<div>\n",
       "<style scoped>\n",
       "    .dataframe tbody tr th:only-of-type {\n",
       "        vertical-align: middle;\n",
       "    }\n",
       "\n",
       "    .dataframe tbody tr th {\n",
       "        vertical-align: top;\n",
       "    }\n",
       "\n",
       "    .dataframe thead th {\n",
       "        text-align: right;\n",
       "    }\n",
       "</style>\n",
       "<table border=\"1\" class=\"dataframe\">\n",
       "  <thead>\n",
       "    <tr style=\"text-align: right;\">\n",
       "      <th></th>\n",
       "      <th>domain</th>\n",
       "      <th>is_dga</th>\n",
       "    </tr>\n",
       "  </thead>\n",
       "  <tbody>\n",
       "    <tr>\n",
       "      <th>0</th>\n",
       "      <td>4fjricvizb</td>\n",
       "      <td>1</td>\n",
       "    </tr>\n",
       "    <tr>\n",
       "      <th>1</th>\n",
       "      <td>d8qozh0</td>\n",
       "      <td>1</td>\n",
       "    </tr>\n",
       "    <tr>\n",
       "      <th>2</th>\n",
       "      <td>lwefonpokmurys</td>\n",
       "      <td>1</td>\n",
       "    </tr>\n",
       "    <tr>\n",
       "      <th>3</th>\n",
       "      <td>cgrdinayexpv7rwojcch1assupne6vsd</td>\n",
       "      <td>1</td>\n",
       "    </tr>\n",
       "    <tr>\n",
       "      <th>4</th>\n",
       "      <td>s2hujqcljrau3</td>\n",
       "      <td>1</td>\n",
       "    </tr>\n",
       "  </tbody>\n",
       "</table>\n",
       "</div>"
      ],
      "text/plain": [
       "                             domain  is_dga\n",
       "0                        4fjricvizb       1\n",
       "1                           d8qozh0       1\n",
       "2                    lwefonpokmurys       1\n",
       "3  cgrdinayexpv7rwojcch1assupne6vsd       1\n",
       "4                     s2hujqcljrau3       1"
      ]
     },
     "execution_count": 41,
     "metadata": {},
     "output_type": "execute_result"
    }
   ],
   "source": [
    "gen_df.head()"
   ]
  },
  {
   "cell_type": "code",
   "execution_count": 42,
   "id": "111caeb8-0566-455d-ad52-1bd2bce8ffc5",
   "metadata": {},
   "outputs": [],
   "source": [
    "res = pd.concat([top1m, gen_df]).sample(frac=1, ignore_index=True)"
   ]
  },
  {
   "cell_type": "code",
   "execution_count": 43,
   "id": "5e927eb5-86f5-45c9-8f21-c0b641b8bc9c",
   "metadata": {},
   "outputs": [
    {
     "data": {
      "text/html": [
       "<div>\n",
       "<style scoped>\n",
       "    .dataframe tbody tr th:only-of-type {\n",
       "        vertical-align: middle;\n",
       "    }\n",
       "\n",
       "    .dataframe tbody tr th {\n",
       "        vertical-align: top;\n",
       "    }\n",
       "\n",
       "    .dataframe thead th {\n",
       "        text-align: right;\n",
       "    }\n",
       "</style>\n",
       "<table border=\"1\" class=\"dataframe\">\n",
       "  <thead>\n",
       "    <tr style=\"text-align: right;\">\n",
       "      <th></th>\n",
       "      <th>domain</th>\n",
       "      <th>is_dga</th>\n",
       "    </tr>\n",
       "  </thead>\n",
       "  <tbody>\n",
       "    <tr>\n",
       "      <th>0</th>\n",
       "      <td>wildnisverlag.at</td>\n",
       "      <td>0</td>\n",
       "    </tr>\n",
       "    <tr>\n",
       "      <th>1</th>\n",
       "      <td>ymyt2s5axz1p</td>\n",
       "      <td>1</td>\n",
       "    </tr>\n",
       "    <tr>\n",
       "      <th>2</th>\n",
       "      <td>lgm4az9rzrpuunz5ho01bkc3yih</td>\n",
       "      <td>1</td>\n",
       "    </tr>\n",
       "    <tr>\n",
       "      <th>3</th>\n",
       "      <td>fixcomputereasy.com</td>\n",
       "      <td>0</td>\n",
       "    </tr>\n",
       "    <tr>\n",
       "      <th>4</th>\n",
       "      <td>vt7zf3izlajsroolzu7jmpuwo</td>\n",
       "      <td>1</td>\n",
       "    </tr>\n",
       "  </tbody>\n",
       "</table>\n",
       "</div>"
      ],
      "text/plain": [
       "                        domain  is_dga\n",
       "0             wildnisverlag.at       0\n",
       "1                 ymyt2s5axz1p       1\n",
       "2  lgm4az9rzrpuunz5ho01bkc3yih       1\n",
       "3          fixcomputereasy.com       0\n",
       "4    vt7zf3izlajsroolzu7jmpuwo       1"
      ]
     },
     "execution_count": 43,
     "metadata": {},
     "output_type": "execute_result"
    }
   ],
   "source": [
    "res.head()"
   ]
  },
  {
   "cell_type": "markdown",
   "id": "783f4b44-0429-4a1a-999a-da4209f3373f",
   "metadata": {},
   "source": [
    "The training dataset consists of 1,000,000 real domains taken from Alexa Top 1 MillionSites and 1,000,000 generated domains"
   ]
  }
 ],
 "metadata": {
  "kernelspec": {
   "display_name": "Python 3 (ipykernel)",
   "language": "python",
   "name": "python3"
  },
  "language_info": {
   "codemirror_mode": {
    "name": "ipython",
    "version": 3
   },
   "file_extension": ".py",
   "mimetype": "text/x-python",
   "name": "python",
   "nbconvert_exporter": "python",
   "pygments_lexer": "ipython3",
   "version": "3.12.4"
  }
 },
 "nbformat": 4,
 "nbformat_minor": 5
}
